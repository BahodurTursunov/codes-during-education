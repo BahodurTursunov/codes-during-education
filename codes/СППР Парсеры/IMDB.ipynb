{
 "cells": [
  {
   "cell_type": "code",
   "execution_count": 1,
   "id": "4d1a0c4a",
   "metadata": {},
   "outputs": [],
   "source": [
    "import requests as req\n",
    "from bs4 import BeautifulSoup\n",
    "from time import sleep\n",
    "import random\n",
    "from numpy import random\n",
    "import pandas as pd"
   ]
  },
  {
   "cell_type": "code",
   "execution_count": 2,
   "id": "f0043909",
   "metadata": {},
   "outputs": [],
   "source": [
    "from selenium.webdriver import Chrome\n",
    "driver = Chrome(executable_path='chromedriver')"
   ]
  },
  {
   "cell_type": "code",
   "execution_count": 3,
   "id": "314ed546",
   "metadata": {},
   "outputs": [],
   "source": [
    "url = \"https://www.imdb.com/chart/top\"\n",
    "driver.get(url)\n",
    "html = driver.page_source\n",
    "s = BeautifulSoup(html, \"lxml\")"
   ]
  },
  {
   "cell_type": "code",
   "execution_count": 4,
   "id": "046d5166",
   "metadata": {},
   "outputs": [],
   "source": [
    "genres_links = []\n",
    "genres = []\n",
    "films = s.find('ul', class_='quicklinks').findAll('li', class_='subnav_item_main')\n",
    "for film in films:\n",
    "    link = \"https://www.imdb.com\"+film.find('a').get('href')\n",
    "    genre = film.find('a').text\n",
    "    genres_links.append([link])\n",
    "    genres.append(str(genre)[1:-1])"
   ]
  },
  {
   "cell_type": "code",
   "execution_count": 9,
   "id": "0de08be1",
   "metadata": {},
   "outputs": [
    {
     "name": "stdout",
     "output_type": "stream",
     "text": [
      "Action\n",
      "Adventure\n",
      "Animation\n",
      "Biography\n",
      "Comedy\n",
      "Crime\n",
      "Drama\n",
      "Family\n",
      "Fantasy\n",
      "Film-Noir\n",
      "History\n",
      "Horror\n",
      "Music\n",
      "Musical\n",
      "Mystery\n",
      "Romance\n",
      "Sci-Fi\n",
      "Sport\n",
      "Thriller\n",
      "War\n",
      "Western\n"
     ]
    }
   ],
   "source": [
    "data =[]\n",
    "i = 0\n",
    "for url in genres_links:\n",
    "    sleep(random.uniform(3, 7))\n",
    "    driver.get(str(url)[2:-2])\n",
    "    html = driver.page_source\n",
    "    s = BeautifulSoup(html, \"lxml\")\n",
    "    print(genres[i])\n",
    "    blocks = s.findAll('div', class_='lister-item mode-advanced')\n",
    "    \n",
    "    for block in blocks:\n",
    "        title = block.find('div', class_='lister-item-content').find('a').text\n",
    "        year = block.find('div', class_='lister-item-content').find('span', class_='lister-item-year text-muted unbold').text[1:-1]\n",
    "        score = block.find('div', class_='lister-item-content').find('strong').text\n",
    "        data.append([title, year, genres[i], score])\n",
    "    \n",
    "    i = i + 1"
   ]
  },
  {
   "cell_type": "code",
   "execution_count": 10,
   "id": "21530f90",
   "metadata": {},
   "outputs": [
    {
     "data": {
      "text/plain": [
       "1030"
      ]
     },
     "execution_count": 10,
     "metadata": {},
     "output_type": "execute_result"
    }
   ],
   "source": [
    "len(data)"
   ]
  },
  {
   "cell_type": "code",
   "execution_count": 11,
   "id": "7bba1581",
   "metadata": {},
   "outputs": [],
   "source": [
    "head = ['title', 'year', 'genre', 'score']\n",
    "dt = pd.DataFrame(data, columns=head)\n",
    "dt.to_csv('imdb_data.csv', sep=';', encoding='utf-16')"
   ]
  },
  {
   "cell_type": "code",
   "execution_count": null,
   "id": "aa76ccbd",
   "metadata": {},
   "outputs": [],
   "source": []
  }
 ],
 "metadata": {
  "kernelspec": {
   "display_name": "Python 3",
   "language": "python",
   "name": "python3"
  },
  "language_info": {
   "codemirror_mode": {
    "name": "ipython",
    "version": 3
   },
   "file_extension": ".py",
   "mimetype": "text/x-python",
   "name": "python",
   "nbconvert_exporter": "python",
   "pygments_lexer": "ipython3",
   "version": "3.8.8"
  }
 },
 "nbformat": 4,
 "nbformat_minor": 5
}
