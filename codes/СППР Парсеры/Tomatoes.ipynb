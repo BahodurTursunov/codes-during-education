{
 "cells": [
  {
   "cell_type": "code",
   "execution_count": 1,
   "id": "3669a2a9",
   "metadata": {},
   "outputs": [],
   "source": [
    "import requests as req\n",
    "from bs4 import BeautifulSoup\n",
    "from time import sleep\n",
    "import random\n",
    "from numpy import random\n",
    "import pandas as pd"
   ]
  },
  {
   "cell_type": "code",
   "execution_count": 2,
   "id": "d592ae87",
   "metadata": {},
   "outputs": [],
   "source": [
    "from selenium.webdriver import Chrome\n",
    "driver = Chrome(executable_path='chromedriver')"
   ]
  },
  {
   "cell_type": "code",
   "execution_count": 4,
   "id": "acd6c4f1",
   "metadata": {},
   "outputs": [],
   "source": [
    "url = \"https://www.rottentomatoes.com/top/bestofrt/\"\n",
    "driver.get(url)\n",
    "html = driver.page_source\n",
    "s = BeautifulSoup(html, \"lxml\")"
   ]
  },
  {
   "cell_type": "code",
   "execution_count": 5,
   "id": "c41070a1",
   "metadata": {},
   "outputs": [],
   "source": [
    "genres_links = []\n",
    "genres = []\n",
    "films = s.find('ul', class_='dropdown-menu').findAll('a')\n",
    "for film in films:\n",
    "    link = \"  \"+film.get('href')\n",
    "    genre = film.text\n",
    "    genres_links.append(\"https://www.rottentomatoes.com\"+str(link).replace(\" \", \"\"))\n",
    "    genres.append(str(genre)[1:].replace(\" \", \"\"))"
   ]
  },
  {
   "cell_type": "code",
   "execution_count": 7,
   "id": "b42c3424",
   "metadata": {},
   "outputs": [
    {
     "name": "stdout",
     "output_type": "stream",
     "text": [
      "Action&Adventure\n",
      "Animation\n",
      "ArtHouse&International\n",
      "Classics\n",
      "Comedy\n",
      "Documentary\n",
      "Drama\n",
      "Horror\n",
      "Kids&Family\n",
      "Musical&PerformingArts\n",
      "Mystery&Suspense\n",
      "Romance\n",
      "ScienceFiction&Fantasy\n",
      "SpecialInterest\n",
      "Sports&Fitness\n",
      "Television\n",
      "Western\n"
     ]
    }
   ],
   "source": [
    "data =[]\n",
    "i = 0\n",
    "\n",
    "for url in genres_links:\n",
    "    driver.get(url)\n",
    "    html = driver.page_source\n",
    "    s = BeautifulSoup(html, \"lxml\")\n",
    "    print(genres[i])\n",
    "    blocks = s.find('table', class_='table').findAll('tr')\n",
    "    for block in blocks[1:]:\n",
    "        title = block.find('a', class_='unstyled articleLink').text[1:].replace(\" \", \"\")\n",
    "        score = block.find('span', class_='tMeterScore').text[1:-1]\n",
    "        data.append([title, genres[i], score])\n",
    "    \n",
    "    i=i+1"
   ]
  },
  {
   "cell_type": "code",
   "execution_count": 8,
   "id": "5fbced7b",
   "metadata": {},
   "outputs": [
    {
     "data": {
      "text/plain": [
       "1610"
      ]
     },
     "execution_count": 8,
     "metadata": {},
     "output_type": "execute_result"
    }
   ],
   "source": [
    "len(data)"
   ]
  },
  {
   "cell_type": "code",
   "execution_count": 9,
   "id": "0575cb70",
   "metadata": {},
   "outputs": [
    {
     "data": {
      "text/plain": [
       "['BlackPanther(2018)', 'Action&Adventure', '96']"
      ]
     },
     "execution_count": 9,
     "metadata": {},
     "output_type": "execute_result"
    }
   ],
   "source": [
    "data[0]"
   ]
  },
  {
   "cell_type": "code",
   "execution_count": 10,
   "id": "eb550557",
   "metadata": {},
   "outputs": [],
   "source": [
    "head = ['title', 'genre', 'score']\n",
    "dt = pd.DataFrame(data, columns=head)\n",
    "dt.to_csv('tomat_data.csv', sep=';', encoding='utf-16')"
   ]
  },
  {
   "cell_type": "code",
   "execution_count": null,
   "id": "3ff3000f",
   "metadata": {},
   "outputs": [],
   "source": []
  }
 ],
 "metadata": {
  "kernelspec": {
   "display_name": "Python 3 (ipykernel)",
   "language": "python",
   "name": "python3"
  },
  "language_info": {
   "codemirror_mode": {
    "name": "ipython",
    "version": 3
   },
   "file_extension": ".py",
   "mimetype": "text/x-python",
   "name": "python",
   "nbconvert_exporter": "python",
   "pygments_lexer": "ipython3",
   "version": "3.8.12"
  }
 },
 "nbformat": 4,
 "nbformat_minor": 5
}
