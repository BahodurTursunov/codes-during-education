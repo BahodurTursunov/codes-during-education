{
 "cells": [
  {
   "cell_type": "code",
   "execution_count": 1,
   "id": "4a9f6b0f",
   "metadata": {},
   "outputs": [],
   "source": [
    "import requests as req\n",
    "from bs4 import BeautifulSoup\n",
    "from random import randint\n",
    "from time import sleep\n",
    "import random\n",
    "from numpy import random\n",
    "import pandas as pd"
   ]
  },
  {
   "cell_type": "code",
   "execution_count": 2,
   "id": "f3e2dbd7",
   "metadata": {},
   "outputs": [],
   "source": [
    "from selenium.webdriver import Chrome\n",
    "from selenium.common.exceptions import TimeoutException\n",
    "driver = Chrome(executable_path='chromedriver')\n",
    "driver.set_page_load_timeout(10)"
   ]
  },
  {
   "cell_type": "code",
   "execution_count": 4,
   "id": "4e7ee193",
   "metadata": {},
   "outputs": [],
   "source": [
    "url = \"https://www.metacritic.com/browse/movies/score/metascore/all/filtered?view=detailed/\"\n",
    "driver.get(url)\n",
    "html = driver.page_source\n",
    "    \n",
    "s = BeautifulSoup(html, \"lxml\")"
   ]
  },
  {
   "cell_type": "code",
   "execution_count": 5,
   "id": "1520ae73",
   "metadata": {},
   "outputs": [],
   "source": [
    "links = []\n",
    "films = s.findAll('td', class_='clamp-summary-wrap')\n",
    "for film in films:\n",
    "    link = \"https://www.metacritic.com\"+film.find('a', class_='title').get('href')\n",
    "    links.append([link+\"/details\"])"
   ]
  },
  {
   "cell_type": "code",
   "execution_count": 6,
   "id": "093af7c1",
   "metadata": {},
   "outputs": [
    {
     "data": {
      "text/plain": [
       "100"
      ]
     },
     "execution_count": 6,
     "metadata": {},
     "output_type": "execute_result"
    }
   ],
   "source": [
    "len(links)"
   ]
  },
  {
   "cell_type": "code",
   "execution_count": 7,
   "id": "539ee9c8",
   "metadata": {},
   "outputs": [
    {
     "name": "stdout",
     "output_type": "stream",
     "text": [
      "BAN!\n",
      "BAN!\n",
      "BAN!\n",
      "BAN!\n",
      "BAN!\n",
      "BAN!\n"
     ]
    }
   ],
   "source": [
    "data = []\n",
    "\n",
    "ban_count = 0;\n",
    "\n",
    "for link in links:\n",
    "    sleep(random.uniform(3, 7))\n",
    "   \n",
    "    try:\n",
    "        driver.get(str(link)[2:-2])\n",
    "    except TimeoutException:\n",
    "        print(\"loading timeout\")\n",
    "        \n",
    "    html = driver.page_source\n",
    "    s = BeautifulSoup(html, \"lxml\")\n",
    "    \n",
    "    if ban_count>5: break\n",
    "    \n",
    "    try:\n",
    "        title = s.find('div', class_='product_page_title oswald upper').find('h1').text\n",
    "        date = s.find('table', class_='details').find('tr', class_='home_release_date').find('td', class_='data').text\n",
    "        genre = s.find('table', class_='details').find('tr', class_='genres').find('td', class_='data').findAll('span')[0].text\n",
    "        metascore = s.find('span', class_='metascore_w larger movie positive perfect').text\n",
    "        userscore = s.find('span', class_='metascore_w user larger movie positive').text\n",
    "        data.append([link, title, date, genre, metascore, userscore])\n",
    "\n",
    "    except AttributeError:\n",
    "        print('BAN!')\n",
    "        ban_count = ban_count +1"
   ]
  },
  {
   "cell_type": "code",
   "execution_count": 8,
   "id": "7010fdb2",
   "metadata": {},
   "outputs": [
    {
     "data": {
      "text/plain": [
       "[['https://www.metacritic.com/movie/citizen-kane/details'],\n",
       " 'Citizen Kane',\n",
       " 'Sep 25, 2001',\n",
       " 'Drama',\n",
       " '100',\n",
       " '8.4']"
      ]
     },
     "execution_count": 8,
     "metadata": {},
     "output_type": "execute_result"
    }
   ],
   "source": [
    "data[0]"
   ]
  },
  {
   "cell_type": "code",
   "execution_count": 9,
   "id": "e68ff3d4",
   "metadata": {},
   "outputs": [],
   "source": [
    "head = ['link', 'title', 'date', 'genre', 'metascore', 'userscore']\n",
    "dt = pd.DataFrame(data, columns=head)\n",
    "dt.to_csv('metacritic_data.csv', sep=';', encoding='utf-16')"
   ]
  },
  {
   "cell_type": "code",
   "execution_count": null,
   "id": "62ec43f7",
   "metadata": {},
   "outputs": [],
   "source": []
  }
 ],
 "metadata": {
  "kernelspec": {
   "display_name": "Python 3 (ipykernel)",
   "language": "python",
   "name": "python3"
  },
  "language_info": {
   "codemirror_mode": {
    "name": "ipython",
    "version": 3
   },
   "file_extension": ".py",
   "mimetype": "text/x-python",
   "name": "python",
   "nbconvert_exporter": "python",
   "pygments_lexer": "ipython3",
   "version": "3.8.12"
  }
 },
 "nbformat": 4,
 "nbformat_minor": 5
}
