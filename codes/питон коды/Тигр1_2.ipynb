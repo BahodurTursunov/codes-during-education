{
 "cells": [
  {
   "cell_type": "code",
   "execution_count": 1,
   "id": "c5f8740c",
   "metadata": {},
   "outputs": [
    {
     "name": "stdout",
     "output_type": "stream",
     "text": [
      "\n",
      "Поиск добычи\n",
      "\n",
      "Есть враг \n",
      "Убежать от врага\n",
      "\n",
      "Убежать от врага\n",
      "\n",
      "Поиск добычи\n",
      "\n",
      "Поиск добычи\n",
      "\n",
      "Добыча найдена \n",
      "Выследить добычу\n",
      "\n",
      "Добыча найдена 0.555 \n",
      "Атака\n",
      "\n",
      "Добыча найдена \n",
      "Бежать домой\n"
     ]
    }
   ],
   "source": [
    "import random\n",
    "\n",
    "class Function:\n",
    "    def __init__(self, state):##конструкторы переменной\n",
    "        self.per = state\n",
    "    def change_state(self):\n",
    "        while self.per != \"\\nБежать домой\":##пока состояние не \"Бежать домой\"\n",
    "            print(self.per)##выводим переменную\n",
    "            random_state = random.randint(0, 2)##присуждаем переменной рандомное значение от 0 до 2\n",
    "            rabbit = random.uniform(0, 1)##присуждаем переменной кролик рандомное значение от 0 до 1\n",
    "            if random_state == 0:## если у тигра значение 0, тигр в Поиске добычи\n",
    "                self.per = \"\\nПоиск добычи\"\n",
    "                print(self.per)##печать переменной\n",
    "            if random_state == 1:##если значение 1, то \"Добыча найдена\", переходим в состояние \"Выследить добычу\"\n",
    "                self.per = \"\\nВыследить добычу\"\n",
    "                print(\"\\nДобыча найдена\", self.per)\n",
    "                if random_state > 0.6: ##Значение атаки Тигра \n",
    "                    if rabbit_1.escape > random_state:##если значение переменной кролика больше значение атаки тигра\n",
    "                        self.per = \"\\nПоиск добычи\"##кролик сбежал, тигр снова ищет добычу\n",
    "                        print(\"\\nДобыча найдена\", round(rabbit_1.escape, 3), round(rabbit, 3), \"\\nПоиск добычи\")\n",
    "                    else:\n",
    "                        self.per = \"\\nАтака\"##если же атака тигра больше, переход в состояние атаки\n",
    "                        print(\"\\nДобыча найдена\", round(rabbit, 3), self.per)\n",
    "                        self.per = \"\\nБежать домой\"\n",
    "                        print(\"\\nДобыча найдена\", self.per)##итог, добыча найдена\n",
    "                else:\n",
    "                    continue\n",
    "            elif random_state == 2:## если значение 2, тигр находит врага и убегает от него \n",
    "                self.per = \"\\nУбежать от врага\"\n",
    "                print(\"\\nЕсть враг\", self.per)\n",
    "class Fun_Rabbit:## описание класса кролика\n",
    "    def __init__(self, escape):\n",
    "        self.escape = escape\n",
    "tiger = Function(\"\\nПоиск добычи\")##вызов функции Tiger с состоянием \"Поиск добычи\"\n",
    "rabbit = random.randrange(0, 1)##присуждаем переменной кролик рандомное значение от 0 до 1\n",
    "rabbit_1 = Fun_Rabbit(rabbit)##вызываем функцию кролика\n",
    "tiger.change_state()\n"
   ]
  },
  {
   "cell_type": "code",
   "execution_count": null,
   "id": "9def2870",
   "metadata": {},
   "outputs": [],
   "source": []
  }
 ],
 "metadata": {
  "kernelspec": {
   "display_name": "Python 3",
   "language": "python",
   "name": "python3"
  },
  "language_info": {
   "codemirror_mode": {
    "name": "ipython",
    "version": 3
   },
   "file_extension": ".py",
   "mimetype": "text/x-python",
   "name": "python",
   "nbconvert_exporter": "python",
   "pygments_lexer": "ipython3",
   "version": "3.8.8"
  }
 },
 "nbformat": 4,
 "nbformat_minor": 5
}
