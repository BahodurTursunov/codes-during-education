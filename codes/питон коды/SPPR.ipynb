{
 "cells": [
  {
   "cell_type": "code",
   "execution_count": 1,
   "metadata": {},
   "outputs": [
    {
     "name": "stdout",
     "output_type": "stream",
     "text": [
      "Ответ выигрыш игрока A в ситуации H(P,Q) = 7.7645\n",
      "Ответ выигрыш игрока A в ситуации H(Q,A1) = 11.129999999999999\n",
      "Ответ выигрыш игрока A в ситуации H(Q,A2) = 6.869999999999999\n",
      "Ответ выигрыш игрока A в ситуации H(Q,A3) = 1.42\n",
      "Ответ выигрыш игрока A в ситуации H(Q,A4) = 8.16\n",
      "Ответ выигрыш игрока A в ситуации H(Q,A5) = 3.7399999999999998\n",
      "Ответ выигрыш игрока B в ситуации H(P,Q) = 7.7645\n",
      "Ответ выигрыш игрока B в ситуации H(Q,A1) = 11.129999999999999\n",
      "Ответ выигрыш игрока B в ситуации H(Q,A2) = 6.869999999999999\n",
      "Ответ выигрыш игрока B в ситуации H(Q,A3) = 1.42\n",
      "Ответ выигрыш игрока B в ситуации H(Q,A4) = 8.16\n",
      "Ответ выигрыш игрока B в ситуации H(Q,A5) = 3.7399999999999998\n",
      "Ответ выигрыш игрока B в ситуации H(P,B1) = 7.800000000000001\n",
      "Ответ выигрыш игрока B в ситуации H(P,B2) = 7.75\n",
      "Ответ выигрыш игрока B в ситуации H(P,B3) = 2.7\n",
      "Ответ выигрыш игрока B в ситуации H(P,B4) = 6.3\n",
      "Ответ выигрыш игрока B в ситуации H(P,B5) = 5.499999999999999\n"
     ]
    }
   ],
   "source": [
    "import numpy as np\n",
    "matrix = np.array([[9, 12, 9, 0, 6],\n",
    "                   [ 9, 6, 9, 11, 12],\n",
    "                   [ 0, 2, 4, 4, 4],\n",
    "                   [ 11, 7, 7, 5, 3],\n",
    "                   [ 8, 2, 10, 12, 8]])\n",
    "\n",
    "q= [0.0, 0.65, 0.0, 0.35, 0.0]\n",
    "p= [0.29, 0.71, 0.0, 0.0, 0.0]\n",
    "answer = {}\n",
    "lower_price = max([min(x) for x in matrix])\n",
    "upper_price = min([max(x) for x in np.rot90(matrix)])\n",
    "if lower_price==upper_price:\n",
    "    print(\"седловая точка есть\", \"ответ v={}\".format(lower_price))\n",
    "else:\n",
    "    buff=0\n",
    "    for i,pin in zip(matrix,p):\n",
    "        buff+=pin*sum([x*y for x,y in zip(i,q)])\n",
    "    answer[\"H(P,Q)\"]=buff\n",
    "\n",
    "    for k, i  in enumerate((matrix),1):\n",
    "        answer[\"H(Q,A{})\".format(k)]=sum([x*y for x,y in zip(i,p)])\n",
    "        \n",
    "    for i in [(x,y) for x,y in answer.items()]:\n",
    "        print(\"Ответ выигрыш игрока A в ситуации {0[0]} = {0[1]}\".format(i))\n",
    "    \n",
    "    for k, i  in enumerate((matrix),1):\n",
    "        answer[\"H(P,B{})\".format(k)]=sum([x*y for x,y in zip(i,q)])\n",
    "\n",
    "    for i in [(x,y) for x,y in answer.items()]:\n",
    "        print(\"Ответ выигрыш игрока B в ситуации {0[0]} = {0[1]}\".format(i))"
   ]
  },
  {
   "cell_type": "code",
   "execution_count": null,
   "metadata": {},
   "outputs": [],
   "source": []
  }
 ],
 "metadata": {
  "kernelspec": {
   "display_name": "Python 3",
   "language": "python",
   "name": "python3"
  },
  "language_info": {
   "codemirror_mode": {
    "name": "ipython",
    "version": 3
   },
   "file_extension": ".py",
   "mimetype": "text/x-python",
   "name": "python",
   "nbconvert_exporter": "python",
   "pygments_lexer": "ipython3",
   "version": "3.8.8"
  }
 },
 "nbformat": 4,
 "nbformat_minor": 4
}
