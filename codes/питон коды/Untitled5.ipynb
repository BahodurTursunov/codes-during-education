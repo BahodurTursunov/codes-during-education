{
 "cells": [
  {
   "cell_type": "code",
   "execution_count": 1,
   "metadata": {},
   "outputs": [
    {
     "name": "stdout",
     "output_type": "stream",
     "text": [
      "Ответ выигрыш игрока A в ситуации H(P,Q) = 5.8652\n",
      "Ответ выигрыш игрока A в ситуации H(Q,A1) = 5.68\n",
      "Ответ выигрыш игрока A в ситуации H(Q,A2) = 6.22\n",
      "Ответ выигрыш игрока A в ситуации H(Q,A3) = 3.22\n",
      "Ответ выигрыш игрока A в ситуации H(Q,A4) = 5.38\n",
      "Ответ выигрыш игрока A в ситуации H(Q,A5) = 7.159999999999999\n",
      "Ответ выигрыш игрока B в ситуации H(P,Q) = 5.8652\n",
      "Ответ выигрыш игрока B в ситуации H(Q,A1) = 5.68\n",
      "Ответ выигрыш игрока B в ситуации H(Q,A2) = 6.22\n",
      "Ответ выигрыш игрока B в ситуации H(Q,A3) = 3.22\n",
      "Ответ выигрыш игрока B в ситуации H(Q,A4) = 5.38\n",
      "Ответ выигрыш игрока B в ситуации H(Q,A5) = 7.159999999999999\n",
      "Ответ выигрыш игрока B в ситуации H(P,B1) = 5.88\n",
      "Ответ выигрыш игрока B в ситуации H(P,B2) = 5.859999999999999\n",
      "Ответ выигрыш игрока B в ситуации H(P,B3) = 4.12\n",
      "Ответ выигрыш игрока B в ситуации H(P,B4) = 3.96\n",
      "Ответ выигрыш игрока B в ситуации H(P,B5) = 5.859999999999999\n"
     ]
    }
   ],
   "source": [
    "import numpy as np\n",
    "matrix = np.array([[10,  2, 12,  4, 12],[ 4,  7,  6,  8,  7],[ 1,  4,  4, 12,  4],\n",
    "[ 0,  9,  0,  3, 1],[ 6,  8,  4,  1,  6]])\n",
    "q= [0.44, 0.38, 0.0, 0.18, 0.0]\n",
    "p= [0.26, 0.58, 0.0, 0.0, 0.16]\n",
    "answer = {}\n",
    "lower_price = max([min(x) for x in matrix])\n",
    "upper_price = min([max(x) for x in np.rot90(matrix)])\n",
    "if lower_price==upper_price:\n",
    "    print(\"седловая точка есть\", \"ответ v={}\".format(lower_price))\n",
    "else:\n",
    "    buff=0\n",
    "    for i,pin in zip(matrix,p):\n",
    "        buff+=pin*sum([x*y for x,y in zip(i,q)])\n",
    "    answer[\"H(P,Q)\"]=buff\n",
    "\n",
    "    for k, i  in enumerate((matrix),1):\n",
    "        answer[\"H(Q,A{})\".format(k)]=sum([x*y for x,y in zip(i,p)])\n",
    "        \n",
    "    for i in [(x,y) for x,y in answer.items()]:\n",
    "        print(\"Ответ выигрыш игрока A в ситуации {0[0]} = {0[1]}\".format(i))\n",
    "    \n",
    "    for k, i  in enumerate((matrix),1):\n",
    "        answer[\"H(P,B{})\".format(k)]=sum([x*y for x,y in zip(i,q)])\n",
    "\n",
    "    for i in [(x,y) for x,y in answer.items()]:\n",
    "        print(\"Ответ выигрыш игрока B в ситуации {0[0]} = {0[1]}\".format(i))"
   ]
  },
  {
   "cell_type": "code",
   "execution_count": null,
   "metadata": {},
   "outputs": [],
   "source": []
  }
 ],
 "metadata": {
  "kernelspec": {
   "display_name": "Python 3",
   "language": "python",
   "name": "python3"
  },
  "language_info": {
   "codemirror_mode": {
    "name": "ipython",
    "version": 3
   },
   "file_extension": ".py",
   "mimetype": "text/x-python",
   "name": "python",
   "nbconvert_exporter": "python",
   "pygments_lexer": "ipython3",
   "version": "3.8.8"
  }
 },
 "nbformat": 4,
 "nbformat_minor": 4
}
