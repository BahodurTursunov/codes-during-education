{
 "cells": [
  {
   "cell_type": "markdown",
   "metadata": {},
   "source": [
    "# Контрольная работа"
   ]
  },
  {
   "cell_type": "markdown",
   "metadata": {},
   "source": [
    "### 1 Есть список a = [a1, ..... a10] состоящий из 10 значений Написать функцию сортировки пузырьком для сортировки списка"
   ]
  },
  {
   "cell_type": "markdown",
   "metadata": {},
   "source": [
    "#### результат 3/3"
   ]
  },
  {
   "cell_type": "code",
   "execution_count": null,
   "metadata": {},
   "outputs": [],
   "source": [
    "data = [int(input()) for _ in range(10)]\n",
    "\n",
    "def buble_sort(data):\n",
    "    n = len(data)\n",
    "    \n",
    "    for i in range(n-1):\n",
    "        for j in range(n-i-1):\n",
    "            if data[j] > data[j+1]:\n",
    "                data[j], data[j+1] = data[j+1], data[j]\n",
    "        print(data)\n",
    "        \n",
    "d = data.copy()\n",
    "buble_sort(d)\n",
    "print(d)"
   ]
  },
  {
   "cell_type": "markdown",
   "metadata": {},
   "source": [
    "#### результат 3/3"
   ]
  },
  {
   "cell_type": "code",
   "execution_count": 1,
   "metadata": {},
   "outputs": [
    {
     "name": "stdout",
     "output_type": "stream",
     "text": [
      "36\n",
      "55\n",
      "35\n",
      "40\n",
      "35\n",
      "35\n",
      "93\n",
      "78\n",
      "22\n",
      "47\n",
      "[36, 35, 40, 35, 35, 55, 78, 22, 47, 93]\n",
      "[35, 36, 35, 35, 40, 55, 22, 47, 78, 93]\n",
      "[35, 35, 35, 36, 40, 22, 47, 55, 78, 93]\n",
      "[35, 35, 35, 36, 22, 40, 47, 55, 78, 93]\n",
      "[35, 35, 35, 22, 36, 40, 47, 55, 78, 93]\n",
      "[35, 35, 22, 35, 36, 40, 47, 55, 78, 93]\n",
      "[35, 22, 35, 35, 36, 40, 47, 55, 78, 93]\n",
      "[22, 35, 35, 35, 36, 40, 47, 55, 78, 93]\n",
      "[22, 35, 35, 35, 36, 40, 47, 55, 78, 93]\n",
      "[22, 35, 35, 35, 36, 40, 47, 55, 78, 93]\n"
     ]
    }
   ],
   "source": [
    "a = [36,55,36,40,35,35,93,78,22,47]\n",
    "for i2 in range(0,len(a)):\n",
    "    a[i2] = int(input())\n",
    "x = 0\n",
    "while (1 == 1):\n",
    "    y = 0\n",
    "    for i in range(0,len(a)-1):\n",
    "        if (a[i] > a[i+1]):\n",
    "            b = a[i]\n",
    "            a[i] = a[i+1]\n",
    "            a[i+1] = b\n",
    "            y += 1\n",
    "    if (y == 0):\n",
    "        break\n",
    "    else:\n",
    "        print(a)\n",
    "        x += 1\n",
    "for i in range (x,len(a)):\n",
    "    print(a)"
   ]
  },
  {
   "cell_type": "markdown",
   "metadata": {},
   "source": [
    "### 2 Напишите программу, которая принимает на вход число от 0 до 100 прописью, а на выходе выдает его значение типа int"
   ]
  },
  {
   "cell_type": "markdown",
   "metadata": {},
   "source": [
    "#### результат 5/5"
   ]
  },
  {
   "cell_type": "code",
   "execution_count": 2,
   "metadata": {},
   "outputs": [
    {
     "name": "stdout",
     "output_type": "stream",
     "text": [
      "четырнадцать\n",
      "14\n"
     ]
    }
   ],
   "source": [
    "dict_1 = {'один' : 1,'два' : 2,'три' : 3,'четыре' : 4,'пять' : 5,'шесть' : 6,'семь' : 7,'восемь' : 8,'девять' : 9,'десять' : 10,'двадцать' : 20,'тридцать' : 30,'сорок' : 40,'пятьдесят' : 50,'шестьдесят' : 60,'семьдесят' : 70,'восемьдесят' : 80,'девяносто' : 90}\n",
    "dict_2 = {'одиннадцать' : 11,'двенадцать' : 12,'тринадцать' : 13,'четырнадцать' : 14,'пятьнадцать' : 15,'шестнадцать' : 16,'семнадцать' : 17,'восемнадцать' : 18,'девятнадцать' : 19,'сто' : 100}\n",
    "vvod = input().lower().split()\n",
    "if (len(vvod) == 1):\n",
    "    if (vvod[0] in dict_1):\n",
    "        print(dict_1[vvod[0]])\n",
    "    if (vvod[0] in dict_2):\n",
    "        print(dict_2[vvod[0]])\n",
    "if (len(vvod) == 2):\n",
    "    if (vvod[0] in dict_1 and vvod[1] in dict_1):\n",
    "        print(dict_1[vvod[0]]+dict_1[vvod[1]])"
   ]
  },
  {
   "cell_type": "markdown",
   "metadata": {},
   "source": [
    "### Существует словарь, в котором описаны роли в пьессе «Вишневый Сад» А.П. Чехова\n",
    "\n",
    "### { 'Лопахин': {'Должность': 'купец', 'Возраст': 35, 'Пол': 'Мужской'}, 'Фирс': {'Должность': 'лакей', 'Возраст': None, 'Пол': 'Мужской'}, 'Трофимов': {'Должность': 'Дворянин', 'Возраст': 47, 'Пол': 'Мужской'}, 'Яша' : {'Должность': 'лакей', 'Возраст': 28, 'Пол': 'Мужской'}, 'Варя': {'Должность': 'воспитанница', 'Возраст': 24, 'Пол': 'Женский'}, 'Аня': {'Должность': 'дочь', 'Возраст': 17, 'Пол': 'Женский'}, 'Дуняшка': {'Должность': 'горничная', 'Возраст': None, 'Пол': 'Женский'}, 'Шарлотта' : {'Должность': 'гувернантка', 'Возраст': 40, 'Пол': 'Женский'}, 'Раневская' : {'Должность': 'Дворянка', 'Возраст': 32, 'Пол': 'Женский'}, } Необходимо:\n",
    "\n",
    "### 1. Заполнить все пропуски в возрасте участников медианными значениями от возраста людей того же пола;\n",
    "\n",
    "### 2. Вывести в формате Имя-Возраст-Должность всех мужчин старше 30 лет;\n",
    "\n",
    "### 3. Вывести в формате Имя-Возраст-Должность всех женщин младше 24 лет;"
   ]
  },
  {
   "cell_type": "code",
   "execution_count": null,
   "metadata": {},
   "outputs": [],
   "source": [
    "##### Решено на 1/1"
   ]
  },
  {
   "cell_type": "code",
   "execution_count": 5,
   "metadata": {},
   "outputs": [
    {
     "name": "stdout",
     "output_type": "stream",
     "text": [
      "Лопахин 35 купец\n",
      "Фирс 35 лакей\n",
      "Трофимов 47 дворянин\n",
      "Аня 17 дочь\n"
     ]
    }
   ],
   "source": [
    "import statistics\n",
    "\n",
    "\n",
    "x = []\n",
    "y = []\n",
    "x2 = 0\n",
    "y2 = 0\n",
    "vvod= { 'Лопахин': {'Должность': 'купец', 'Возраст': 35, 'Пол': 'Мужской'},\n",
    "       'Фирс': {'Должность': 'лакей', 'Возраст': None, 'Пол': 'Мужской'},\n",
    "       'Трофимов': {'Должность': 'дворянин', 'Возраст': 47, 'Пол': 'Мужской'},\n",
    "       'Яша' : {'Должность': 'лакей', 'Возраст': 28, 'Пол': 'Мужской'},\n",
    "       'Варя': {'Должность': 'воспитанница', 'Возраст': 24, 'Пол': 'Женский'},\n",
    "       'Аня': {'Должность': 'дочь', 'Возраст': 17, 'Пол': 'Женский'},\n",
    "       'Дуняшка': {'Должность': 'горничная', 'Возраст': None, 'Пол': 'Женский'},\n",
    "       'Шарлотта' : {'Должность': 'гувернантка', 'Возраст': 40, 'Пол': 'Женский'},\n",
    "       'Раневская' : {'Должность': 'дворянка', 'Возраст': 32, 'Пол': 'Женский'} }\n",
    "for i in vvod:\n",
    "    if (vvod[i]['Пол'] == 'Мужской' and vvod[i]['Возраст'] != None):\n",
    "        x.append(vvod[i]['Возраст'])\n",
    "    if (vvod[i]['Пол'] == 'Женский' and vvod[i]['Возраст'] != None):\n",
    "        y.append(vvod[i]['Возраст'])\n",
    "\n",
    "x2 = statistics.median(x)\n",
    "y2 = statistics.median(y)\n",
    "    \n",
    "for i in vvod:\n",
    "    if (vvod[i]['Возраст'] == None):\n",
    "        if (vvod[i]['Пол'] == 'Мужской' and x != 0):\n",
    "            vvod[i]['Возраст'] = x2\n",
    "        if (vvod[i]['Пол'] == 'Женский' and y != 0):\n",
    "            vvod[i]['Возраст'] = y2\n",
    "\n",
    "for i in vvod:\n",
    "    if (vvod[i]['Пол'] == 'Мужской' and vvod[i]['Возраст'] != None and vvod[i]['Возраст'] > 30):\n",
    "        print (i + \" \" + str(vvod[i]['Возраст']) + \" \" + str(vvod[i]['Должность']))\n",
    "for i in vvod:\n",
    "    if (vvod[i]['Пол'] == 'Женский' and vvod[i]['Возраст'] != None and vvod[i]['Возраст'] < 24):\n",
    "        print (i + \" \" + str(vvod[i]['Возраст']) + \" \" + str(vvod[i]['Должность']))\n"
   ]
  },
  {
   "cell_type": "markdown",
   "metadata": {},
   "source": [
    "### 4 Напишите функцию, которая ищет кратчайший путь из вершины А в вершину Б ориентированного графа, заданного матрицей смежности"
   ]
  },
  {
   "cell_type": "markdown",
   "metadata": {},
   "source": [
    "#### результат 6/6"
   ]
  },
  {
   "cell_type": "code",
   "execution_count": 7,
   "metadata": {},
   "outputs": [
    {
     "name": "stdout",
     "output_type": "stream",
     "text": [
      "4 1 4\n",
      "0 -5 16 9\n",
      "5 0 4 2\n",
      "-16 -4 0 2\n",
      "-9 -2 3 0\n",
      "9\n"
     ]
    }
   ],
   "source": [
    "def Fun_algoritm(n, e, m, m_x, step, mrk):\n",
    "    while True:\n",
    "        m_d = m_x\n",
    "        for i in range(n):\n",
    "            if not mrk[i] and step[i] < m_d:\n",
    "                m_d = step[i]\n",
    "                m_v = i\n",
    "        if m_d == m_x:\n",
    "            break\n",
    "        i = m_v\n",
    "        mrk[i] = True\n",
    "        for j in range(n):\n",
    "            if step[i] + m[i][j] < step[j] and m[i][j] > 0:\n",
    "                step[j] = step[i] + m[i][j]\n",
    "    if step[e - 1] == m_x:\n",
    "        print(None)\n",
    "    else:\n",
    "        print(step[e - 1])\n",
    "\n",
    "\n",
    "n, beggin, end = map(int, input().split())\n",
    "m = []\n",
    "for i in range(n):\n",
    "    m.append(list(map(int, input().split())))\n",
    "\n",
    "mx = 1000\n",
    "step = [mx] * n\n",
    "step[beggin - 1] = 0\n",
    "mark = [False] * n\n",
    "global m_v\n",
    "\n",
    "Fun_algoritm(n, end, m, mx, step, mark)"
   ]
  },
  {
   "cell_type": "code",
   "execution_count": null,
   "metadata": {},
   "outputs": [],
   "source": []
  }
 ],
 "metadata": {
  "kernelspec": {
   "display_name": "Python 3",
   "language": "python",
   "name": "python3"
  },
  "language_info": {
   "codemirror_mode": {
    "name": "ipython",
    "version": 3
   },
   "file_extension": ".py",
   "mimetype": "text/x-python",
   "name": "python",
   "nbconvert_exporter": "python",
   "pygments_lexer": "ipython3",
   "version": "3.8.8"
  }
 },
 "nbformat": 4,
 "nbformat_minor": 4
}
