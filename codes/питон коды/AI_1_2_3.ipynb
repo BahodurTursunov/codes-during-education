{
 "cells": [
  {
   "cell_type": "markdown",
   "metadata": {},
   "source": [
    "# AI 1"
   ]
  },
  {
   "cell_type": "markdown",
   "metadata": {},
   "source": [
    "### 1 Написать программу, которая итерируется по тексту и выбирает все триплеты (множества из подряд идущих букв). В триплетах не может быть пробелов, знаков пунктуации. Пример триплетов из фразы \"Мама, мыла раму?\": мам, ама, мыл, ыла, рам, аму"
   ]
  },
  {
   "cell_type": "markdown",
   "metadata": {},
   "source": [
    "#### результат 3/3"
   ]
  },
  {
   "cell_type": "code",
   "execution_count": null,
   "metadata": {},
   "outputs": [],
   "source": [
    "import re\n",
    "from datetime import datetime\n",
    "data = input()\n",
    "data_clean = [i for i in re.split(r'\\W+',data) if i]\n",
    "A = []\n",
    "for i in range(len(data_clean)):\n",
    "    strng = data_clean[i]\n",
    "    A.append([strng[i:i+3] for i in range(len(strng)-2)])\n",
    "\n",
    "for row in A: \n",
    "    for x in row: \n",
    "        print(x)"
   ]
  },
  {
   "cell_type": "markdown",
   "metadata": {},
   "source": [
    "#### результат 3/3"
   ]
  },
  {
   "cell_type": "code",
   "execution_count": 10,
   "metadata": {},
   "outputs": [
    {
     "name": "stdout",
     "output_type": "stream",
     "text": [
      "Мама, мфла раму?\n",
      "Мам\n",
      "ама\n",
      "мфл\n",
      "фла\n",
      "рам\n",
      "аму\n"
     ]
    }
   ],
   "source": [
    "s = input()\n",
    "for i in range(len(s)-2):\n",
    "    if s[i:i+3].isalpha() :\n",
    "        print(s[i]+s[i+1]+s[i+2]) "
   ]
  },
  {
   "cell_type": "markdown",
   "metadata": {},
   "source": [
    "### 2 Создать программу, которая выбирает из текста все даты, которые записаны в формате: dd.mm.yyyy и сохранить их в формате datetime"
   ]
  },
  {
   "cell_type": "markdown",
   "metadata": {},
   "source": [
    "#### результат 3/3"
   ]
  },
  {
   "cell_type": "code",
   "execution_count": null,
   "metadata": {},
   "outputs": [],
   "source": [
    "import re\n",
    "from datetime import datetime\n",
    "data2 = input()\n",
    "date_string  = re.findall(r'\\d{2}\\.\\d{2}\\.\\d{4}', data2)\n",
    "date_list = []\n",
    "for i in range(len(date_string)):\n",
    "    date_list.append(datetime.strptime(date_string[i], \"%d.%m.%Y\"))\n",
    "    \n",
    "for row in date_list:\n",
    "    print(row.strftime(\"%Y-%m-%d\"))"
   ]
  },
  {
   "cell_type": "markdown",
   "metadata": {},
   "source": [
    "#### результат 3/3"
   ]
  },
  {
   "cell_type": "code",
   "execution_count": 9,
   "metadata": {},
   "outputs": [
    {
     "name": "stdout",
     "output_type": "stream",
     "text": [
      "Создать программу, которая выбирает из текста все даты, которые записаны в формате: 23.05.2001 и сохранить их в формате datetime\n",
      "2001-05-23\n"
     ]
    }
   ],
   "source": [
    "import datetime\n",
    "t = input()\n",
    "for i in range(len(t)-9):\n",
    "    if(t[i].isdigit()) and (t[i+1].isdigit()) and (t[i+2] == \".\") and (t[i+3].isdigit()) and (t[i+4].isdigit()) and ( t[i+5] == \".\" ) and ( t[i+6].isdigit()) and ( t[i+7].isdigit()) and ( t[i+8].isdigit()) and ( t[i+9].isdigit()):\n",
    "        print(t[i+6]+t[i+7]+t[i+8]+t[i+9]+\"-\"+t[i+3]+t[i+4]+\"-\"+t[i]+t[i+1])"
   ]
  },
  {
   "cell_type": "markdown",
   "metadata": {},
   "source": [
    "### 3 N учеников поровну делят K яблок, оставив оставшиеся яблоки в корзине. Сколько яблок получит каждый ученик?"
   ]
  },
  {
   "cell_type": "markdown",
   "metadata": {},
   "source": [
    "#### результат 4/4"
   ]
  },
  {
   "cell_type": "code",
   "execution_count": 9,
   "metadata": {},
   "outputs": [
    {
     "name": "stdout",
     "output_type": "stream",
     "text": [
      "0\n",
      "10\n",
      "0\n"
     ]
    }
   ],
   "source": [
    "a = int(input())\n",
    "b = int(input())\n",
    "if a*b==0:\n",
    "    print(\"0\")\n",
    "else:\n",
    "    print(int(b)//int(a))"
   ]
  },
  {
   "cell_type": "markdown",
   "metadata": {},
   "source": [
    "#### результат 4/4"
   ]
  },
  {
   "cell_type": "code",
   "execution_count": 7,
   "metadata": {},
   "outputs": [
    {
     "name": "stdout",
     "output_type": "stream",
     "text": [
      "10\n",
      "45\n",
      "4\n"
     ]
    }
   ],
   "source": [
    "stud = int(input())\n",
    "apple = int(input())\n",
    "if stud ==0:\n",
    "    print (0)\n",
    "else:\n",
    "    ans = apple // stud\n",
    "    print (ans)\n"
   ]
  },
  {
   "cell_type": "markdown",
   "metadata": {},
   "source": [
    "### 4 Вывести последнюю цифру целого числа N."
   ]
  },
  {
   "cell_type": "markdown",
   "metadata": {},
   "source": [
    "#### результат 3/3"
   ]
  },
  {
   "cell_type": "code",
   "execution_count": 11,
   "metadata": {},
   "outputs": [
    {
     "name": "stdout",
     "output_type": "stream",
     "text": [
      "179\n",
      "9\n"
     ]
    }
   ],
   "source": [
    "a = int(input())\n",
    "print(a%10)"
   ]
  },
  {
   "cell_type": "markdown",
   "metadata": {},
   "source": [
    "#### результат 3/3"
   ]
  },
  {
   "cell_type": "code",
   "execution_count": 6,
   "metadata": {},
   "outputs": [
    {
     "name": "stdout",
     "output_type": "stream",
     "text": [
      "186\n",
      "6\n"
     ]
    }
   ],
   "source": [
    "n = int(input())\n",
    "while n>10:\n",
    "    n = n % 10\n",
    "print (n)"
   ]
  },
  {
   "cell_type": "markdown",
   "metadata": {},
   "source": [
    "### 5 Задано число N. С начала дня (00:00) прошло N минут. Преобразуйте время в этот момент в часы и минуты, которые покажут цифровые часы."
   ]
  },
  {
   "cell_type": "markdown",
   "metadata": {},
   "source": [
    "#### результат 4/4"
   ]
  },
  {
   "cell_type": "code",
   "execution_count": null,
   "metadata": {},
   "outputs": [],
   "source": [
    "a = int(input())\n",
    "hh = a % (60*24) // 60\n",
    "mm = a%60\n",
    "if(mm<10):\n",
    "    print(hh,\":0\", mm, sep=\"\")\n",
    "else:\n",
    "    print(hh,\":\", mm, sep=\"\")"
   ]
  },
  {
   "cell_type": "markdown",
   "metadata": {},
   "source": [
    "#### результат 4/4"
   ]
  },
  {
   "cell_type": "code",
   "execution_count": 5,
   "metadata": {},
   "outputs": [
    {
     "name": "stdout",
     "output_type": "stream",
     "text": [
      "61\n",
      "1:01\n"
     ]
    }
   ],
   "source": [
    "n = int(input())\n",
    "while n>1440:\n",
    "    n=n-1440\n",
    "hour = n // 60\n",
    "ans = str(hour)+\":\"\n",
    "minu = n - hour*60\n",
    "\n",
    "if minu < 10:\n",
    "    print (ans+\"0\"+str(minu))\n",
    "else:\n",
    "    print (ans+str(minu))"
   ]
  },
  {
   "cell_type": "markdown",
   "metadata": {},
   "source": [
    "### 6 Даны три целых числа. Определите, сколько из них совпадают."
   ]
  },
  {
   "cell_type": "markdown",
   "metadata": {},
   "source": [
    "#### результат 3/3"
   ]
  },
  {
   "cell_type": "code",
   "execution_count": 14,
   "metadata": {},
   "outputs": [
    {
     "name": "stdout",
     "output_type": "stream",
     "text": [
      "1\n",
      "1\n",
      "1\n",
      "3\n"
     ]
    }
   ],
   "source": [
    "a = int(input())\n",
    "b = int(input())\n",
    "c = int(input())\n",
    "if a == b == c:\n",
    "    print(3)\n",
    "elif a==b or b==c or a==c:\n",
    "    print(2)\n",
    "else:\n",
    "    print(0)"
   ]
  },
  {
   "cell_type": "markdown",
   "metadata": {},
   "source": [
    "#### результат 3/3"
   ]
  },
  {
   "cell_type": "code",
   "execution_count": 11,
   "metadata": {},
   "outputs": [
    {
     "name": "stdout",
     "output_type": "stream",
     "text": [
      "1\n",
      "1\n",
      "1\n",
      "3\n"
     ]
    }
   ],
   "source": [
    "o = int(input())\n",
    "t = int(input())\n",
    "th = int(input())\n",
    "\n",
    "if o == t == th:\n",
    "    print(3)\n",
    "elif o != t and th != o and t != th:\n",
    "    print(0)\n",
    "else:\n",
    "    print(2)"
   ]
  },
  {
   "cell_type": "markdown",
   "metadata": {},
   "source": [
    "### 7 Даны два ящика размерами A1 × B1 × C1 и A2 × B2 × C2. Можно ли разместить одну коробку внутри другой, имея параллельные стороны коробок?"
   ]
  },
  {
   "cell_type": "markdown",
   "metadata": {},
   "source": [
    "#### результат ?/4 НЕ ЗАПУСКАЕТСЯ"
   ]
  },
  {
   "cell_type": "code",
   "execution_count": 18,
   "metadata": {},
   "outputs": [
    {
     "name": "stdout",
     "output_type": "stream",
     "text": [
      "1\n",
      "2\n",
      "3\n",
      "3\n",
      "2\n",
      "1\n",
      "Ящики равны\n"
     ]
    }
   ],
   "source": [
    "import numpy as np\n",
    " \n",
    "box1 = [\"0\", \"0\", \"0\"]\n",
    "box2 = [\"0\", \"0\", \"0\"]\n",
    "\n",
    "box1[0] = int(input())\n",
    "box1[1] = int(input())\n",
    "box1[2] = int(input())\n",
    "\n",
    "box2[0] = int(input())\n",
    "box2[1] = int(input())\n",
    "box2[2] = int(input())\n",
    "\n",
    "    \n",
    "box1_rot = np.array(box1)\n",
    "box1_rot.sort()\n",
    "\n",
    "box2_rot = np.array(box2)\n",
    "box2_rot.sort()\n",
    " \n",
    "if np.all(box1_rot==box2_rot):\n",
    "    print (\"Ящики равны\")\n",
    "    \n",
    "elif np.all(box1_rot>=box2_rot):\n",
    "    print (\"Первое поле больше второго\")\n",
    "\n",
    "elif np.all(box1_rot<=box2_rot):\n",
    "    print (\"Первое поле меньше второго\")\n",
    "\n",
    "else:\n",
    "    print (\"Ящики несопоставимы\")"
   ]
  },
  {
   "cell_type": "markdown",
   "metadata": {},
   "source": [
    "#### результат 5/5"
   ]
  },
  {
   "cell_type": "code",
   "execution_count": 12,
   "metadata": {},
   "outputs": [
    {
     "name": "stdout",
     "output_type": "stream",
     "text": [
      "1\n",
      "2\n",
      "3\n",
      "3\n",
      "3\n",
      "1\n",
      "Первое поле меньше второго\n"
     ]
    }
   ],
   "source": [
    "A = [0,0,0]\n",
    "B =[0,0,0]\n",
    "for i in range(3):\n",
    "    A[i] = input()\n",
    "for i in range(3):\n",
    "    B[i] = input()\n",
    "\n",
    "A.sort()\n",
    "B.sort()\n",
    "if (A[0] == B[0] and A[1] == B[1] and A[2] == B[2]):\n",
    "    print(\"Ящики равны\")\n",
    "elif (A[0] <= B[0] and A[1] <= B[1] and A[2] <= B[2]):\n",
    "    print(\"Первое поле меньше второго\")\n",
    "elif (A[0] >= B[0] and A[1] >= B[1] and A[2] >= B[2]):\n",
    "    print(\"Первое поле больше второго\")\n",
    "else:\n",
    "    print(\"Ящики несопоставимы\")"
   ]
  },
  {
   "cell_type": "markdown",
   "metadata": {},
   "source": [
    "### 8 Для заданных n <100 завершают русскую фразу «На лугу пасется ...» одним из следующих окончаний: «n коров» «n корова» «n коровы»."
   ]
  },
  {
   "cell_type": "markdown",
   "metadata": {},
   "source": [
    "#### результат 4/4"
   ]
  },
  {
   "cell_type": "code",
   "execution_count": null,
   "metadata": {},
   "outputs": [],
   "source": [
    "n = int(input())\n",
    "\n",
    "if n >= 11 and n <= 14:\n",
    "        print(n, 'коров')\n",
    "else:\n",
    "        temp = n % 10\n",
    "        if temp == 0 or (temp >= 5 and temp <= 9):\n",
    "                print(n, 'коров')\n",
    "        if temp == 1:\n",
    "                print(n, 'корова')\n",
    "        if temp >=2 and temp <=4:\n",
    "                print(n, 'коровы')"
   ]
  },
  {
   "cell_type": "markdown",
   "metadata": {},
   "source": [
    "#### результат 4/4"
   ]
  },
  {
   "cell_type": "code",
   "execution_count": null,
   "metadata": {},
   "outputs": [],
   "source": [
    "n = int(input())\n",
    "if (n !=11 and n%10 == 1):\n",
    "    print( n, 'корова')\n",
    "elif (2 <= n % 10 <= 4 and n!=12 and n!=13 and n!=14):\n",
    "    print ( n, 'коровы')\n",
    "elif (5 <= n % 10 <= 9 or n % 10 == 0 or n==11 or n==12 or n==13  or n==14):\n",
    "    print( n, 'коров')"
   ]
  },
  {
   "cell_type": "markdown",
   "metadata": {},
   "source": [
    "# AI 2"
   ]
  },
  {
   "cell_type": "markdown",
   "metadata": {},
   "source": [
    "### 1 Реализуйте функцию со следующим функционалом. Найти наименьшее общее кратное (НОК) пар чисел по формуле НОК = ab / НОД(a,b), где a и b - это натуральные числа, НОД - наибольший общий делитель."
   ]
  },
  {
   "cell_type": "markdown",
   "metadata": {},
   "source": [
    "#### результат 5/5"
   ]
  },
  {
   "cell_type": "code",
   "execution_count": null,
   "metadata": {},
   "outputs": [],
   "source": [
    "def gcd(a, b):\n",
    "\n",
    "    while b:\n",
    "        a, b = b, a%b\n",
    "    return a\n",
    "def lcm(a, b):\n",
    "    return a * b / gcd(a, b)\n",
    "\n",
    "a = int(input())\n",
    "b = int(input())\n",
    "\n",
    "r = lcm(a, b)\n",
    "print(int(r))"
   ]
  },
  {
   "cell_type": "markdown",
   "metadata": {},
   "source": [
    "#### результат 5/5"
   ]
  },
  {
   "cell_type": "code",
   "execution_count": null,
   "metadata": {},
   "outputs": [],
   "source": [
    "a = int(input())\n",
    "b = int(input())\n",
    "if a != 0 and b != 0:\n",
    "    for i in range (1, a*b+1):\n",
    "        if i%b == 0 and i%a == 0:\n",
    "            print(i)\n",
    "            break\n",
    "else:\n",
    "    print(0)"
   ]
  },
  {
   "cell_type": "markdown",
   "metadata": {},
   "source": [
    "### 2 Реализовать функцию со следующим функционалом: найти сумму цифр произвольного положительного числа."
   ]
  },
  {
   "cell_type": "markdown",
   "metadata": {},
   "source": [
    "#### результат 4/4"
   ]
  },
  {
   "cell_type": "code",
   "execution_count": null,
   "metadata": {},
   "outputs": [],
   "source": [
    "def sum_of_digits(val):\n",
    "    val = str(val)\n",
    "    return sum(map(int, val))\n",
    "\n",
    "a = int(input())\n",
    "print(int(sum_of_digits(a)))"
   ]
  },
  {
   "cell_type": "markdown",
   "metadata": {},
   "source": [
    "#### результат 4/4"
   ]
  },
  {
   "cell_type": "code",
   "execution_count": null,
   "metadata": {},
   "outputs": [],
   "source": [
    "a=int(input())\n",
    "s=0\n",
    "while a >0:\n",
    "    s+=a%10\n",
    "    a = a//10\n",
    "print(s+a)"
   ]
  },
  {
   "cell_type": "markdown",
   "metadata": {},
   "source": [
    "### 3 Проверить является ли число простым. Реализовать в виде функции, принимающей один аргумент и возвращающей True или False."
   ]
  },
  {
   "cell_type": "markdown",
   "metadata": {},
   "source": [
    "#### результат 6/6"
   ]
  },
  {
   "cell_type": "code",
   "execution_count": null,
   "metadata": {},
   "outputs": [],
   "source": [
    "def eratosthenes(n):\n",
    "    sieve = list(range(n + 1))\n",
    "    sieve[1] = 0\n",
    "    for i in sieve:\n",
    "        if i > 1:\n",
    "            for j in range(i + i, len(sieve), i):\n",
    "                sieve[j] = 0\n",
    "    return sieve[-1] == n\n",
    "\n",
    "a = int(input())\n",
    "print(eratosthenes(a))"
   ]
  },
  {
   "cell_type": "markdown",
   "metadata": {},
   "source": [
    "### 4. Создайте программу с классом Algebra. Создайте два атрибута — х и у. Напишите методы add, mult, divis, subtr, sqrt, pov — основные математические операции. При передаче в методы параметров x и y с ними нужно производить соответствующие действия и печатать ответ."
   ]
  },
  {
   "cell_type": "markdown",
   "metadata": {},
   "source": [
    "#### результат 1/4 Частичное решение"
   ]
  },
  {
   "cell_type": "code",
   "execution_count": null,
   "metadata": {},
   "outputs": [],
   "source": [
    "class Algebra:\n",
    "    def __init__(self):\n",
    "        self.x = None\n",
    "        self.y = None\n",
    "\n",
    "    def add(self, x, y):\n",
    "        return x + y\n",
    "    def mult(self, x, y):\n",
    "        return x * y\n",
    "    def divis(self, x, y):\n",
    "        if y == 0:\n",
    "            return \"Деление невозможно\"\n",
    "        return x / y\n",
    "    def subtr(self, x, y):\n",
    "        return x - y\n",
    "    def sqrt(self, x, y):\n",
    "        if y == 0:\n",
    "            return \"Деление невозможно\"\n",
    "        return x ** (1/y)\n",
    "    def pov(self, x, y):\n",
    "        return x ** y\n",
    "    \n",
    "    def __call__(self, x, y):\n",
    "        print(self.add(x, y))\n",
    "        print(self.mult(x, y))\n",
    "        print(self.divis(x, y))\n",
    "        print(self.subtr(x, y))\n",
    "        print(self.sqrt(x, y))\n",
    "        print(self.pov(x, y))\n",
    "\n",
    "a = int(input())\n",
    "b = int(input())\n",
    "Algebra()(a, b)"
   ]
  },
  {
   "cell_type": "markdown",
   "metadata": {},
   "source": [
    "#### результат 4/4 "
   ]
  },
  {
   "cell_type": "code",
   "execution_count": null,
   "metadata": {},
   "outputs": [],
   "source": [
    "c"
   ]
  },
  {
   "cell_type": "markdown",
   "metadata": {},
   "source": [
    "### 5 Создайте программу с классом Student и Starosta. Класс Starosta должен наследоваться от класса Student. Атрибутами класса Student должны быть bilnum - номер студбилета длинною 9 цифр, FIO - ФИО студента без цифр, знаков препинания, разрешены только пробелы, rating - рейтинг успеваемости от 0 до 100. Методы класса Student - printinf - выводит всю имеющуюся информацию по студенту, change_rating - при передаче отрицательного числа понижает рейтинг, а положительного увеличивает его. Атрибут класса Starosta - journal - словарь всех студентов, в котором ФИО указывается в виде ключа, а значение - как журнал оставшихся bilnim и rating, где ключ это bilnum, а rating это значение. Методы класса Starosta - addstudent (пополнение словаря), removestudent (удаление данных из словаря), showclass (вывод на экран всего списка студентов в по алфавиту)."
   ]
  },
  {
   "cell_type": "markdown",
   "metadata": {},
   "source": [
    "#### результат 1/3"
   ]
  },
  {
   "cell_type": "code",
   "execution_count": 20,
   "metadata": {},
   "outputs": [
    {
     "name": "stdout",
     "output_type": "stream",
     "text": [
      "Петров Петр Петрович\n",
      "103219345\n",
      "83\n",
      "Бородинский Иван Иванович\n",
      "103219897\n",
      "65\n",
      "10\n",
      "('Петров Петр Петрович', 103219345, 83)\n",
      "('Петров Петр Петрович', 103219345, 93)\n",
      "('Бородинский Иван Иванович', 103219897, 65)\n",
      "Петров Петр Петрович : {103219345: 93}\n",
      "Бородинский Иван Иванович : {103219897: 65}\n",
      "Петров Петр Петрович : {103219345: 93}\n",
      "Бородинский Иван Иванович : {103219897: 65}\n"
     ]
    }
   ],
   "source": [
    "class Student:\n",
    "    def __init__(self, fio, bilnum, raiting):\n",
    "        assert self._validate_fio(fio), \"invalid fio\"\n",
    "        assert self._validate_bilnum(bilnum), \"invalid bilnum\"\n",
    "        assert self._validate_raiting(raiting), \"invalid raiting\"\n",
    "        self.fio = fio\n",
    "        self.bilnum = bilnum\n",
    "        self.raiting = raiting\n",
    "        \n",
    "    def _validate_bilnum(self, bilnum) -> bool:\n",
    "        if len(str(bilnum)) != 9:\n",
    "            return False\n",
    "        \n",
    "        try:\n",
    "            bilnum = int(bilnum)\n",
    "            return True\n",
    "        \n",
    "        except:\n",
    "            return False\n",
    "    \n",
    "    def _validate_raiting(self, raiting) -> bool:\n",
    "        if not (0 <= raiting <= 100):\n",
    "            return False\n",
    "        else:\n",
    "            return True\n",
    "        \n",
    "    def _validate_fio(self, string) -> bool:\n",
    "        if len(string.split(\" \")) != 3:\n",
    "            return False\n",
    "        \n",
    "        return string.replace(\" \", \"\").isalpha()\n",
    "            \n",
    "    \n",
    "    def printf(self):\n",
    "        string = (self.fio, self.bilnum, self.raiting)\n",
    "        print(string)\n",
    "    \n",
    "    def change_raiting(self, delta) -> bool:\n",
    "        if self._validate_raiting(self.raiting+delta) is False:\n",
    "            assert False, \"invalid raiting\"\n",
    "        else:\n",
    "            self.raiting += delta\n",
    "            \n",
    "    def __repr__(self):\n",
    "        string = f\"{self.fio}->{self.bilnum}->{self.raiting}\"\n",
    "        return string\n",
    "\n",
    "\n",
    "\n",
    "class Starosta(Student):\n",
    "    def __init__(self, fio, bilnum, raiting, journal):\n",
    "        super().__init__(fio, bilnum, raiting)\n",
    "        \n",
    "        self.journal = journal\n",
    "        \n",
    "    def add_student(self, fio, bilnum, raiting):\n",
    "        assert self._validate_bilnum(bilnum) and self._validate_fio(fio) and \\\n",
    "            self._validate_raiting(raiting), \"Invalid data\"\n",
    "        \n",
    "        self.journal[fio] = {bilnum: raiting}\n",
    "        \n",
    "    def removestudent(self, fio):\n",
    "        del self.journal[fio]\n",
    "        \n",
    "    def show_class(self):\n",
    "        yandex_contest_is_awful = []\n",
    "        for k,v in self.journal.items():\n",
    "            yandex_contest_is_awful.append(f\"{k} : {v}\")\n",
    "            \n",
    "        for i in yandex_contest_is_awful[::-1]:\n",
    "            print(i)\n",
    "\n",
    "\n",
    "def cinp():\n",
    "    fio = input()\n",
    "    bil = int(input())\n",
    "    raiting = int(input())\n",
    "    fio2 = input()\n",
    "    bil2 = int(input())\n",
    "    raiting2 = int(input())\n",
    "    cr = int(input())\n",
    "    return fio, bil, raiting, fio2, bil2, raiting2, cr\n",
    "\n",
    "\n",
    "FIO1, bilnum1, rating1, FIO2, bilnum2, rating2, change_rating = cinp()\n",
    "\n",
    "\n",
    "\n",
    "person1 = Student(FIO1, bilnum1, rating1)\n",
    "person1.printf()\n",
    "person1.change_raiting(change_rating)\n",
    "person1.printf()\n",
    "person2 = Student(FIO2, bilnum2, rating2)\n",
    "person2.printf()\n",
    "st = Starosta(person1.fio, person1.bilnum, person1.raiting, {person1.fio: {person1.bilnum: person1.raiting}})\n",
    "st.show_class()\n",
    "st.add_student(FIO2, bilnum2, rating2)\n",
    "st.show_class()\n",
    "st.removestudent(FIO1)\n",
    "st.show_class()"
   ]
  },
  {
   "cell_type": "code",
   "execution_count": null,
   "metadata": {},
   "outputs": [],
   "source": [
    "#### результат 3/3 (ОБЯЗАТЕЛЬНО СМЕНИТЬ ПЕРЕМЕННЫЕ ПОВТОРНО, А ТАКЖЕ ПОСТАРАТЬСЯ ПЕРЕДЕЛАТЬ КОД ПОД СЕБЯ)"
   ]
  },
  {
   "cell_type": "code",
   "execution_count": 1,
   "metadata": {},
   "outputs": [
    {
     "name": "stdout",
     "output_type": "stream",
     "text": [
      "прпрпр\n",
      "67\n",
      "90\n",
      "апожыщоп\n",
      "68\n",
      "66\n",
      "10\n",
      "('прпрпр', 67, 90)\n",
      "('прпрпр', 67, 100)\n",
      "('апожыщоп', 68, 66)\n",
      "прпрпр : {67: 100}\n",
      "апожыщоп : {68: 66}\n",
      "прпрпр : {67: 100}\n",
      "апожыщоп : {68: 66}\n"
     ]
    }
   ],
   "source": [
    "class Student(object): \n",
    "    \n",
    "    def __init__(self, FIO, bilnum,  rating):\n",
    "        self.FIO = FIO\n",
    "        self.bilnum = bilnum\n",
    "        self.rating = rating\n",
    "        \n",
    "    def printinf(self):\n",
    "        return self.FIO, self.bilnum, self.rating\n",
    "    \n",
    "    def change_rating(self, izmen):\n",
    "        self.rating+=izmen\n",
    "        if self.rating>100 :\n",
    "            self.rating = 100\n",
    "        elif self.rating < 0:\n",
    "            self.rating = 0\n",
    "    \n",
    "class Starosta(Student): \n",
    "    \n",
    "    def __init__(self, FIO, bilnum, rating, journ):\n",
    "        super().__init__(FIO,bilnum, rating)\n",
    "        self.journ = journ\n",
    "        journ[FIO]={bilnum:rating}\n",
    "    \n",
    "    def addstudent(self, FIO, bilnum, rating, journ):\n",
    "        journ[FIO]={bilnum:rating}\n",
    "    \n",
    "    def removestudent(self, FIO, journ):\n",
    "        del journ[FIO]\n",
    "    \n",
    "    def showclass(self):\n",
    "        keys=list(journ.keys())\n",
    "        keys.sort()\n",
    "        for i in keys:\n",
    "            print(i, \":\", self.journ[i])\n",
    "        \n",
    "inform = []\n",
    "for i in range(6):\n",
    "    inf = input()\n",
    "    inform.append(inf)\n",
    "change = int(input())\n",
    "journ = {}\n",
    "\n",
    "student1 = Student(inform[0], int(inform[1]), int(inform[2]))\n",
    "print(student1.printinf())\n",
    "\n",
    "Student.change_rating(student1, change)\n",
    "print(student1.printinf())\n",
    "\n",
    "student2 = Student(inform[3], int(inform[4]), int(inform[5]))\n",
    "print(student2.printinf())\n",
    "\n",
    "st = Starosta(student1.FIO, student1.bilnum, student1.rating, journ)\n",
    "st.showclass()\n",
    "\n",
    "st.addstudent(student2.FIO, student2.bilnum, student2.rating, journ)\n",
    "st.showclass()\n",
    "\n",
    "st.removestudent(student1.FIO, journ)\n",
    "st.showclass()"
   ]
  },
  {
   "cell_type": "markdown",
   "metadata": {},
   "source": [
    "# AI 3"
   ]
  },
  {
   "cell_type": "code",
   "execution_count": null,
   "metadata": {},
   "outputs": [],
   "source": []
  },
  {
   "cell_type": "code",
   "execution_count": 17,
   "metadata": {},
   "outputs": [
    {
     "name": "stdout",
     "output_type": "stream",
     "text": [
      "0 1 2 3 4 5\n",
      "12 14 22 39 58 77\n",
      "1.25\n",
      "15.2\n"
     ]
    }
   ],
   "source": [
    "from typing import Tuple, List\n",
    "import bisect\n",
    "\n",
    "\n",
    "def solve(A, B, C, D):\n",
    "    c_p = C + [0]\n",
    "    d_p = [0] * len(B)\n",
    "    X = [0] * len(B)\n",
    "\n",
    "    c_p[0] = C[0] / B[0]\n",
    "    d_p[0] = D[0] / B[0]\n",
    "    for i in range(1, len(B)):\n",
    "        c_p[i] = c_p[i] / (B[i] - c_p[i - 1] * A[i - 1])\n",
    "        d_p[i] = (D[i] - d_p[i - 1] * A[i - 1]) / (B[i] - c_p[i - 1] * A[i - 1])\n",
    "\n",
    "    X[-1] = d_p[-1]\n",
    "    for i in range(len(B) - 2, -1, -1):\n",
    "        X[i] = d_p[i] - c_p[i] * X[i + 1]\n",
    "\n",
    "    return X\n",
    "\n",
    "\n",
    "def compute_spline(m1, m2, ch):\n",
    "    n = len(m1)\n",
    "    h = [m1[i + 1] - m1[i] for i in range(len(m1) - 1)]\n",
    "    A = [h[i] / (h[i] + h[i + 1]) for i in range(n - 2)] + [0]\n",
    "    B = [2] * n\n",
    "    C = [0] + [h[i + 1] / (h[i] + h[i + 1]) for i in range(n - 2)]\n",
    "    D = [0] + [6 * ((m2[i + 1] - m2[i]) / h[i] - (m2[i] - m2[i - 1]) / h[i - 1]) / (h[i] + h[i - 1]) for i in\n",
    "               range(1, n - 1)] + [0]\n",
    "    M = solve(A, B, C, D)\n",
    "\n",
    "    coef = [[(M[i + 1] - M[i]) * h[i] * h[i] / 6, M[i] * h[i] * h[i] / 2,\n",
    "             (m2[i + 1] - m2[i] - (M[i + 1] + 2 * M[i]) * h[i] * h[i] / 6), m2[i]] for i in range(n - 1)]\n",
    "\n",
    "    idx = min(bisect.bisect(m1, ch) - 1, n - 2)\n",
    "    z = (ch - m1[idx]) / h[idx]\n",
    "    C = coef[idx]\n",
    "\n",
    "    return round((((C[0] * z) + C[1]) * z + C[2]) * z + C[3], 1)\n",
    "\n",
    "\n",
    "massiv_1 = []\n",
    "massiv_2 = []\n",
    "\n",
    "massiv_1 = (list(map(int, input().split())))\n",
    "massiv_2 = (list(map(int, input().split())))\n",
    "chisl = float(input())\n",
    "\n",
    "resh = compute_spline(massiv_1, massiv_2, chisl)\n",
    "print(resh)"
   ]
  },
  {
   "cell_type": "code",
   "execution_count": null,
   "metadata": {},
   "outputs": [],
   "source": []
  },
  {
   "cell_type": "code",
   "execution_count": 3,
   "metadata": {},
   "outputs": [
    {
     "name": "stdout",
     "output_type": "stream",
     "text": [
      "0.6789 0.3434 0.8343 0.5345 0.1295 0.9731\n",
      "0.4343 0.3545 0.5678 0.9032 0.8921 0.3491\n",
      "3.59\n"
     ]
    }
   ],
   "source": [
    "from math import log\n",
    "\n",
    "massiv_1 = (list(map(float, input().split())))\n",
    "massiv_2 = (list(map(float, input().split())))\n",
    "answer = 0\n",
    "for i in range(len(massiv_1)):\n",
    "    answer -= massiv_1[i] * log(massiv_2[i], 2)\n",
    "print(round(answer, 2))"
   ]
  },
  {
   "cell_type": "code",
   "execution_count": null,
   "metadata": {},
   "outputs": [],
   "source": []
  },
  {
   "cell_type": "code",
   "execution_count": 14,
   "metadata": {},
   "outputs": [
    {
     "name": "stdout",
     "output_type": "stream",
     "text": [
      "3\n",
      "0 1 0\n",
      "1 0 1\n",
      "0 1 0\n",
      "YES\n"
     ]
    }
   ],
   "source": [
    "Kol_V = int(input())\n",
    "matr = []\n",
    "per = [False] * Kol_V\n",
    "for i in range(Kol_V):\n",
    "    matr.append([int(x) for x in input().split()])\n",
    "\n",
    "def SV(v):\n",
    "    per[v] = 1\n",
    "    for i in range(Kol_V):\n",
    "        if matr[v][i] == 1 and not per[i]:\n",
    "            SV(i)\n",
    "def der(matr, Kol_V, per):\n",
    "    edge = 0\n",
    "    for i in range(Kol_V):\n",
    "        for k in range(i):\n",
    "            edge += matr[i][k]\n",
    "    SV(0)\n",
    "    if edge != Kol_V - 1 or (False in per):\n",
    "        print('NO')\n",
    "    else:\n",
    "        print('YES')\n",
    "\n",
    "der(matr, Kol_V, per)"
   ]
  },
  {
   "cell_type": "code",
   "execution_count": null,
   "metadata": {},
   "outputs": [],
   "source": []
  }
 ],
 "metadata": {
  "kernelspec": {
   "display_name": "Python 3",
   "language": "python",
   "name": "python3"
  },
  "language_info": {
   "codemirror_mode": {
    "name": "ipython",
    "version": 3
   },
   "file_extension": ".py",
   "mimetype": "text/x-python",
   "name": "python",
   "nbconvert_exporter": "python",
   "pygments_lexer": "ipython3",
   "version": "3.8.8"
  }
 },
 "nbformat": 4,
 "nbformat_minor": 4
}
