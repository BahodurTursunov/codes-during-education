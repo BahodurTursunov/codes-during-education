{
 "cells": [
  {
   "cell_type": "code",
   "execution_count": 2,
   "id": "ff232df7",
   "metadata": {},
   "outputs": [
    {
     "name": "stdout",
     "output_type": "stream",
     "text": [
      "\n",
      "Поиск добычи\n",
      "\n",
      "Поиск добычи\n",
      "\n",
      "Поиск добычи\n",
      "\n",
      "Поиск добычи\n",
      "\n",
      "Поиск добычи\n",
      "\n",
      "Добыча есть \n",
      "Выследить добычу\n",
      "\n",
      "Выследить добычу\n",
      "\n",
      "Добыча есть \n",
      "Выследить добычу\n",
      "\n",
      "Выследить добычу\n",
      "\n",
      "Есть враг \n",
      "Убежать от врага\n",
      "\n",
      "Убежать от врага\n",
      "\n",
      "Есть враг \n",
      "Убежать от врага\n",
      "\n",
      "Убежать от врага\n",
      "\n",
      "Поиск добычи\n",
      "\n",
      "Поиск добычи\n",
      "\n",
      "Добыча есть \n",
      "Выследить добычу\n",
      "\n",
      "Добыча есть 0.748 \n",
      "Атака добычи\n",
      "\n",
      "Добыча есть \n",
      "Бежать домой\n"
     ]
    }
   ],
   "source": [
    "import random\n",
    "\n",
    "class Function:\n",
    "    def __init__(self, state):\n",
    "        self.per = state\n",
    "    def change_state(self):\n",
    "        while self.per != \"\\nБежать домой\":\n",
    "            print(self.per)\n",
    "            rand_state = random.randint(0, 2) \n",
    "            rand = random.uniform(0, 1)         \n",
    "            if rand_state == 0:\n",
    "                self.per = \"\\nПоиск добычи\"\n",
    "                print(self.per)\n",
    "            if rand_state == 1:\n",
    "                self.per = \"\\nВыследить добычу\"\n",
    "                print(\"\\nДобыча есть\", self.per)              \n",
    "                if rand > 0.5:\n",
    "                    self.per = \"\\nАтака добычи\"\n",
    "                    print(\"\\nДобыча есть\", round(rand, 3), self.per)\n",
    "                    self.per = \"\\nБежать домой\"\n",
    "                    print(\"\\nДобыча есть\", self.per)                \n",
    "                else:\n",
    "                    continue        \n",
    "            elif rand_state == 2:\n",
    "                self.per = \"\\nУбежать от врага\"\n",
    "                print(\"\\nЕсть враг\", self.per)\n",
    "tiger = Function(\"\\nПоиск добычи\")\n",
    "tiger.change_state()"
   ]
  },
  {
   "cell_type": "code",
   "execution_count": null,
   "id": "52113484",
   "metadata": {},
   "outputs": [],
   "source": []
  }
 ],
 "metadata": {
  "kernelspec": {
   "display_name": "Python 3",
   "language": "python",
   "name": "python3"
  },
  "language_info": {
   "codemirror_mode": {
    "name": "ipython",
    "version": 3
   },
   "file_extension": ".py",
   "mimetype": "text/x-python",
   "name": "python",
   "nbconvert_exporter": "python",
   "pygments_lexer": "ipython3",
   "version": "3.8.8"
  }
 },
 "nbformat": 4,
 "nbformat_minor": 5
}
