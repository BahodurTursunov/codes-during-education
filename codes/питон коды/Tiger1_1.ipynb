{
 "cells": [
  {
   "cell_type": "code",
   "execution_count": 2,
   "id": "ff232df7",
   "metadata": {},
   "outputs": [
    {
     "name": "stdout",
     "output_type": "stream",
     "text": [
      "\n",
      "Поиск добычи\n",
      "\n",
      "Поиск добычи\n",
      "\n",
      "Поиск добычи\n",
      "\n",
      "Поиск добычи\n",
      "\n",
      "Поиск добычи\n",
      "\n",
      "Добыча есть \n",
      "Выследить добычу\n",
      "\n",
      "Выследить добычу\n",
      "\n",
      "Добыча есть \n",
      "Выследить добычу\n",
      "\n",
      "Выследить добычу\n",
      "\n",
      "Есть враг \n",
      "Убежать от врага\n",
      "\n",
      "Убежать от врага\n",
      "\n",
      "Есть враг \n",
      "Убежать от врага\n",
      "\n",
      "Убежать от врага\n",
      "\n",
      "Поиск добычи\n",
      "\n",
      "Поиск добычи\n",
      "\n",
      "Добыча есть \n",
      "Выследить добычу\n",
      "\n",
      "Добыча есть 0.748 \n",
      "Атака добычи\n",
      "\n",
      "Добыча есть \n",
      "Бежать домой\n"
     ]
    }
   ],
   "source": [
    "import random\n",
    "\n",
    "class Function: ##создаем класс Тигр\n",
    "    def __init__(self, state):##описываем конструкторы класса\n",
    "        self.per = state\n",
    "    def change_state(self):\n",
    "        while self.per != \"\\nБежать домой\":##пока не состояние Бежать домой идет цикл\n",
    "            print(self.per) ##у переменной per, которая в классе используется с приставкой self\n",
    "            rand_state = random.randint(0, 2) ##  есть значение (сначала Поиск добычи) которая рандомно меняется\n",
    "            rand = random.uniform(0, 1) ## после изменения переменной (от 0 до 2) и изменения второй переменной (от 0 до 1)         \n",
    "            if rand_state == 0:## заходим в цикл if, где в зависимости от значения присуждаем одно из состояний\n",
    "                self.per = \"\\nПоиск добычи\"##0 - Поиск добычи\n",
    "                print(self.per)\n",
    "            if rand_state == 1:\n",
    "                self.per = \"\\nВыследить добычу\"##1 выследить добычу, но снача выводится значение добыча есть\n",
    "                print(\"\\nДобыча есть\", self.per)              \n",
    "                if rand > 0.5:##как только добыча найдена мы входим в новый цикл. Атака добычи\n",
    "                    self.per = \"\\nАтака добычи\"\n",
    "                    print(\"\\nДобыча есть\", round(rand, 3), self.per)\n",
    "                    self.per = \"\\nБежать домой\"\n",
    "                    print(\"\\nДобыча есть\", self.per)                \n",
    "                else:\n",
    "                    continue    ## если же добыча не была добыта, цикл продолжается, до положительного исхода      \n",
    "            elif rand_state == 2:## если значение 2, тигр находит врага и убегает от него \n",
    "                self.per = \"\\nУбежать от врага\"\n",
    "                print(\"\\nЕсть враг\", self.per)\n",
    "tiger = Function(\"\\nПоиск добычи\")## вызывает функцию,которая будет работать до \"Поиск добычи\" ( при достижении выход)\n",
    "tiger.change_state()"
   ]
  },
  {
   "cell_type": "code",
   "execution_count": null,
   "id": "52113484",
   "metadata": {},
   "outputs": [],
   "source": []
  }
 ],
 "metadata": {
  "kernelspec": {
   "display_name": "Python 3",
   "language": "python",
   "name": "python3"
  },
  "language_info": {
   "codemirror_mode": {
    "name": "ipython",
    "version": 3
   },
   "file_extension": ".py",
   "mimetype": "text/x-python",
   "name": "python",
   "nbconvert_exporter": "python",
   "pygments_lexer": "ipython3",
   "version": "3.8.8"
  }
 },
 "nbformat": 4,
 "nbformat_minor": 5
}
